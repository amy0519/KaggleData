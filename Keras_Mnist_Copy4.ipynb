{
 "cells": [
  {
   "cell_type": "markdown",
   "metadata": {},
   "source": [
    "# 資料準備"
   ]
  },
  {
   "cell_type": "code",
   "execution_count": 1,
   "metadata": {},
   "outputs": [
    {
     "name": "stderr",
     "output_type": "stream",
     "text": [
      "Using TensorFlow backend.\n"
     ]
    }
   ],
   "source": [
    "# 匯入Keras及相關模組\n",
    "import numpy as np\n",
    "import pandas as pd\n",
    "from keras.utils import np_utils # 後續label轉換成One-hot encoding\n",
    "np.random.seed(10)"
   ]
  },
  {
   "cell_type": "markdown",
   "metadata": {},
   "source": [
    "# 資料預處理"
   ]
  },
  {
   "cell_type": "code",
   "execution_count": 2,
   "metadata": {},
   "outputs": [],
   "source": [
    "from keras.datasets import mnist\n",
    "(x_Train, y_Train), (x_Test, y_Test) = mnist.load_data()"
   ]
  },
  {
   "cell_type": "code",
   "execution_count": 3,
   "metadata": {},
   "outputs": [
    {
     "name": "stdout",
     "output_type": "stream",
     "text": [
      "train_data長度 : 42000\n",
      "test_data長度 : 28000\n"
     ]
    }
   ],
   "source": [
    "# -----匯入資料-----\n",
    "train_data=pd.read_csv(\"train.csv\",encoding=\"big5\")\n",
    "test_data=pd.read_csv(\"test.csv\",encoding=\"big5\")\n",
    "\n",
    "print('train_data長度 :',len(train_data))\n",
    "print('test_data長度 :',len(test_data))"
   ]
  },
  {
   "cell_type": "code",
   "execution_count": 4,
   "metadata": {},
   "outputs": [
    {
     "name": "stdout",
     "output_type": "stream",
     "text": [
      "train_image: (42000, 784)\n",
      "train_label: (42000,)\n",
      "x_train: (42000, 28, 28)\n",
      "x_train_image: (102000, 28, 28)\n",
      "y_train_label: (102000,)\n"
     ]
    }
   ],
   "source": [
    "# 處理訓練資料\n",
    "\n",
    "train_image=(train_data.iloc[:,1:].values).astype('float32')\n",
    "train_label=(train_data.iloc[:,0].values).astype('int32')\n",
    "x_train = train_image.reshape(42000, 28, 28).astype('float32')\n",
    "\n",
    "print ('train_image:',train_image.shape)\n",
    "print ('train_label:',train_label.shape)\n",
    "print ('x_train:',x_train.shape)\n",
    "\n",
    "x_train_image = np.concatenate([x_Train, x_train])\n",
    "y_train_label = np.concatenate([y_Train, train_label])\n",
    "\n",
    "print ('x_train_image:',x_train_image.shape)\n",
    "print ('y_train_label:',y_train_label.shape)\n"
   ]
  },
  {
   "cell_type": "code",
   "execution_count": 5,
   "metadata": {},
   "outputs": [
    {
     "name": "stdout",
     "output_type": "stream",
     "text": [
      "x_test: (28000, 784)\n",
      "x_test_image: (28000, 28, 28)\n",
      "y_test_label: (28000,)\n"
     ]
    }
   ],
   "source": [
    "# 處理測試資料\n",
    "\n",
    "x_test = test_data.values.astype('float32')\n",
    "x_test_image= x_test.reshape(28000, 28, 28).astype('float32')\n",
    "y_test_label=(test_data.iloc[:,0].values).astype('int32')\n",
    "\n",
    "print ('x_test:',x_test.shape)\n",
    "print ('x_test_image:',x_test_image.shape)\n",
    "print ('y_test_label:',y_test_label.shape)\n"
   ]
  },
  {
   "cell_type": "code",
   "execution_count": 6,
   "metadata": {},
   "outputs": [
    {
     "data": {
      "text/plain": [
       "<Figure size 480x480 with 1 Axes>"
      ]
     },
     "metadata": {},
     "output_type": "display_data"
    }
   ],
   "source": [
    "# 定義plot_image function以顯示影像\n",
    "import matplotlib.pyplot as plt\n",
    "train_img = np.reshape(x_train_image[:1, :], (28, 28))\n",
    "plt.matshow(train_img, cmap = plt.get_cmap('binary'))\n",
    "plt.show()"
   ]
  },
  {
   "cell_type": "code",
   "execution_count": 7,
   "metadata": {},
   "outputs": [
    {
     "data": {
      "text/plain": [
       "5"
      ]
     },
     "execution_count": 7,
     "metadata": {},
     "output_type": "execute_result"
    }
   ],
   "source": [
    "# 查看第0筆labels資料\n",
    "y_train_label[0]"
   ]
  },
  {
   "cell_type": "code",
   "execution_count": 8,
   "metadata": {},
   "outputs": [],
   "source": [
    "# Input shape format: (28, 28, 1)  , 其中 1 為黑白照片\n",
    "# If 128x128 RGB三顏色, 需設定 (128,128,3)\n",
    "x_Train4D=x_train_image.reshape(x_train_image.shape[0],28,28,1).astype('float32')   # Convolution layer需要的格式\n",
    "x_Test4D=x_test_image.reshape(x_test_image.shape[0],28,28,1).astype('float32')"
   ]
  },
  {
   "cell_type": "code",
   "execution_count": 9,
   "metadata": {},
   "outputs": [],
   "source": [
    "x_Train4D_normalize = x_Train4D / 255\n",
    "x_Test4D_normalize = x_Test4D / 255"
   ]
  },
  {
   "cell_type": "code",
   "execution_count": 10,
   "metadata": {},
   "outputs": [
    {
     "data": {
      "text/plain": [
       "(102000, 28, 28, 1)"
      ]
     },
     "execution_count": 10,
     "metadata": {},
     "output_type": "execute_result"
    }
   ],
   "source": [
    "x_Train4D_normalize.shape"
   ]
  },
  {
   "cell_type": "code",
   "execution_count": 11,
   "metadata": {},
   "outputs": [],
   "source": [
    "# one-hot encoding\n",
    "y_TrainOneHot = np_utils.to_categorical(y_train_label)"
   ]
  },
  {
   "cell_type": "code",
   "execution_count": 12,
   "metadata": {},
   "outputs": [],
   "source": [
    "# 建立plot_images_labels_prediction function查看多筆訓練資料\n",
    "import matplotlib.pyplot as plt\n",
    "def plot_images_labels_prediction(images,labels,\n",
    "                                  prediction,idx,num=10):\n",
    "    fig = plt.gcf()\n",
    "    fig.set_size_inches(12, 14)\n",
    "    if num>25: num=25 \n",
    "    for i in range(0, num):\n",
    "        ax=plt.subplot(5,5, 1+i)\n",
    "        ax.imshow(images[idx], cmap='binary')\n",
    "        title= \"label=\" +str(labels[idx])\n",
    "        if len(prediction)>0:\n",
    "            title+=\",predict=\"+str(prediction[idx]) \n",
    "            \n",
    "        ax.set_title(title,fontsize=10) \n",
    "        ax.set_xticks([]);ax.set_yticks([])        \n",
    "        idx+=1 \n",
    "    plt.show()"
   ]
  },
  {
   "cell_type": "code",
   "execution_count": 13,
   "metadata": {},
   "outputs": [
    {
     "data": {
      "image/png": "[encoded data removed]",
      "text/plain": [
       "<Figure size 864x1008 with 10 Axes>"
      ]
     },
     "metadata": {},
     "output_type": "display_data"
    }
   ],
   "source": [
    "# 查看前十筆資料\n",
    "plot_images_labels_prediction(x_train_image,y_train_label,[],0,10)"
   ]
  },
  {
   "cell_type": "code",
   "execution_count": 14,
   "metadata": {},
   "outputs": [
    {
     "name": "stdout",
     "output_type": "stream",
     "text": [
      "x_test_image: (28000, 28, 28)\n",
      "y_test_label: (28000,)\n"
     ]
    }
   ],
   "source": [
    "# # 查看測試資料 (由images及labels組成)\n",
    "print ('x_test_image:',x_test_image.shape)\n",
    "print ('y_test_label:',y_test_label.shape)"
   ]
  },
  {
   "cell_type": "code",
   "execution_count": 15,
   "metadata": {},
   "outputs": [
    {
     "data": {
      "image/png": "[encoded data removed]",
      "text/plain": [
       "<Figure size 864x1008 with 10 Axes>"
      ]
     },
     "metadata": {},
     "output_type": "display_data"
    }
   ],
   "source": [
    "plot_images_labels_prediction(x_test_image,y_test_label,[],0,10)"
   ]
  },
  {
   "cell_type": "markdown",
   "metadata": {},
   "source": [
    "# 建立模型 CNN+MLP"
   ]
  },
  {
   "cell_type": "code",
   "execution_count": 16,
   "metadata": {},
   "outputs": [],
   "source": [
    "from keras.models import Sequential\n",
    "from keras.layers import Dense,Dropout,Flatten,Conv2D,MaxPooling2D"
   ]
  },
  {
   "cell_type": "code",
   "execution_count": 17,
   "metadata": {},
   "outputs": [],
   "source": [
    "model = Sequential()\n",
    "\n",
    "#第一層\n",
    "model.add(Conv2D(filters=16,\n",
    "                 kernel_size=(5,5),\n",
    "                 strides=1,\n",
    "                 padding='same', \n",
    "                 input_shape=(28,28,1), \n",
    "                 activation='relu'))\n",
    "# filters:濾鏡數量\n",
    "# kernel_size: 濾鏡⼤⼩ \n",
    "# strides:步幅(width,height)或單⼀數值   (1*1 或1都可以)\n",
    "# padding:same與input shape相同, 使經過濾鏡後的矩陣不會愈來愈⼩; valid-不使⽤padding\n",
    "# kernel_initializer:初始weights⽅法\n",
    "# activation:relu’etc.\n",
    "\n",
    "model.add(MaxPooling2D(pool_size=(2, 2)))\n",
    "# pool_size: pool⼤⼩\n",
    "# strides:步幅(width,height)或單⼀數值,None=pool_size\n",
    "# padding:same’-與input shape相同,‘valid’-不使⽤padding\n",
    "\n",
    "#第二層\n",
    "model.add(Conv2D(filters=36, kernel_size=(5,5), padding='same', activation='relu'))\n",
    "model.add(MaxPooling2D(pool_size=(2, 2)))\n",
    "model.add(Dropout(0.25))\n",
    "\n",
    "# Full connection\n",
    "model.add(Flatten())  # Flatten層: 一維\n",
    "model.add(Dense(128, activation='relu', kernel_initializer='normal'))\n",
    "model.add(Dropout(0.4))\n",
    "\n",
    "model.add(Dense(10,activation='softmax'))  # 多分類使用softmax, 有10個output, 分別為0, 1, 2, ...9"
   ]
  },
  {
   "cell_type": "code",
   "execution_count": 18,
   "metadata": {},
   "outputs": [
    {
     "name": "stdout",
     "output_type": "stream",
     "text": [
      "Model: \"sequential_1\"\n",
      "_________________________________________________________________\n",
      "Layer (type)                 Output Shape              Param #   \n",
      "=================================================================\n",
      "conv2d_1 (Conv2D)            (None, 28, 28, 16)        416       \n",
      "_________________________________________________________________\n",
      "max_pooling2d_1 (MaxPooling2 (None, 14, 14, 16)        0         \n",
      "_________________________________________________________________\n",
      "conv2d_2 (Conv2D)            (None, 14, 14, 36)        14436     \n",
      "_________________________________________________________________\n",
      "max_pooling2d_2 (MaxPooling2 (None, 7, 7, 36)          0         \n",
      "_________________________________________________________________\n",
      "dropout_1 (Dropout)          (None, 7, 7, 36)          0         \n",
      "_________________________________________________________________\n",
      "flatten_1 (Flatten)          (None, 1764)              0         \n",
      "_________________________________________________________________\n",
      "dense_1 (Dense)              (None, 128)               225920    \n",
      "_________________________________________________________________\n",
      "dropout_2 (Dropout)          (None, 128)               0         \n",
      "_________________________________________________________________\n",
      "dense_2 (Dense)              (None, 10)                1290      \n",
      "=================================================================\n",
      "Total params: 242,062\n",
      "Trainable params: 242,062\n",
      "Non-trainable params: 0\n",
      "_________________________________________________________________\n",
      "None\n"
     ]
    }
   ],
   "source": [
    "print(model.summary())"
   ]
  },
  {
   "cell_type": "markdown",
   "metadata": {},
   "source": [
    "# 訓練模型"
   ]
  },
  {
   "cell_type": "code",
   "execution_count": 19,
   "metadata": {},
   "outputs": [],
   "source": [
    "# 定義訓練方式\n",
    "model.compile(loss='categorical_crossentropy', \n",
    "              optimizer='adam', metrics=['accuracy'])"
   ]
  },
  {
   "cell_type": "code",
   "execution_count": 20,
   "metadata": {
    "scrolled": true
   },
   "outputs": [
    {
     "name": "stdout",
     "output_type": "stream",
     "text": [
      "Train on 81600 samples, validate on 20400 samples\n",
      "Epoch 1/30\n",
      " - 91s - loss: 0.4045 - accuracy: 0.8739 - val_loss: 0.0801 - val_accuracy: 0.9753\n",
      "Epoch 2/30\n",
      " - 92s - loss: 0.1043 - accuracy: 0.9686 - val_loss: 0.0524 - val_accuracy: 0.9837\n",
      "Epoch 3/30\n",
      " - 91s - loss: 0.0748 - accuracy: 0.9775 - val_loss: 0.0420 - val_accuracy: 0.9875\n",
      "Epoch 4/30\n",
      " - 118s - loss: 0.0613 - accuracy: 0.9815 - val_loss: 0.0343 - val_accuracy: 0.9889\n",
      "Epoch 5/30\n",
      " - 112s - loss: 0.0494 - accuracy: 0.9851 - val_loss: 0.0283 - val_accuracy: 0.9911\n",
      "Epoch 6/30\n",
      " - 99s - loss: 0.0425 - accuracy: 0.9871 - val_loss: 0.0268 - val_accuracy: 0.9915\n",
      "Epoch 7/30\n",
      " - 101s - loss: 0.0386 - accuracy: 0.9883 - val_loss: 0.0229 - val_accuracy: 0.9925\n",
      "Epoch 8/30\n",
      " - 102s - loss: 0.0352 - accuracy: 0.9892 - val_loss: 0.0198 - val_accuracy: 0.9938\n",
      "Epoch 9/30\n",
      " - 96s - loss: 0.0316 - accuracy: 0.9904 - val_loss: 0.0204 - val_accuracy: 0.9936\n",
      "Epoch 10/30\n",
      " - 92s - loss: 0.0290 - accuracy: 0.9909 - val_loss: 0.0192 - val_accuracy: 0.9941\n",
      "Epoch 11/30\n",
      " - 91s - loss: 0.0264 - accuracy: 0.9917 - val_loss: 0.0157 - val_accuracy: 0.9951\n",
      "Epoch 12/30\n",
      " - 92s - loss: 0.0241 - accuracy: 0.9921 - val_loss: 0.0137 - val_accuracy: 0.9954\n",
      "Epoch 13/30\n",
      " - 91s - loss: 0.0226 - accuracy: 0.9930 - val_loss: 0.0126 - val_accuracy: 0.9960\n",
      "Epoch 14/30\n",
      " - 92s - loss: 0.0202 - accuracy: 0.9936 - val_loss: 0.0117 - val_accuracy: 0.9964\n",
      "Epoch 15/30\n",
      " - 100s - loss: 0.0194 - accuracy: 0.9936 - val_loss: 0.0108 - val_accuracy: 0.9962\n",
      "Epoch 16/30\n",
      " - 92s - loss: 0.0180 - accuracy: 0.9942 - val_loss: 0.0109 - val_accuracy: 0.9965\n",
      "Epoch 17/30\n",
      " - 91s - loss: 0.0180 - accuracy: 0.9944 - val_loss: 0.0098 - val_accuracy: 0.9970\n",
      "Epoch 18/30\n",
      " - 91s - loss: 0.0158 - accuracy: 0.9953 - val_loss: 0.0082 - val_accuracy: 0.9977\n",
      "Epoch 19/30\n",
      " - 92s - loss: 0.0152 - accuracy: 0.9948 - val_loss: 0.0090 - val_accuracy: 0.9972\n",
      "Epoch 20/30\n",
      " - 91s - loss: 0.0146 - accuracy: 0.9954 - val_loss: 0.0100 - val_accuracy: 0.9968\n",
      "Epoch 21/30\n",
      " - 100s - loss: 0.0133 - accuracy: 0.9956 - val_loss: 0.0081 - val_accuracy: 0.9975\n",
      "Epoch 22/30\n",
      " - 97s - loss: 0.0138 - accuracy: 0.9953 - val_loss: 0.0072 - val_accuracy: 0.9982\n",
      "Epoch 23/30\n",
      " - 99s - loss: 0.0140 - accuracy: 0.9951 - val_loss: 0.0072 - val_accuracy: 0.9981\n",
      "Epoch 24/30\n",
      " - 91s - loss: 0.0115 - accuracy: 0.9962 - val_loss: 0.0074 - val_accuracy: 0.9980\n",
      "Epoch 25/30\n",
      " - 91s - loss: 0.0115 - accuracy: 0.9961 - val_loss: 0.0061 - val_accuracy: 0.9985\n",
      "Epoch 26/30\n",
      " - 99s - loss: 0.0110 - accuracy: 0.9964 - val_loss: 0.0082 - val_accuracy: 0.9977\n",
      "Epoch 27/30\n",
      " - 104s - loss: 0.0116 - accuracy: 0.9961 - val_loss: 0.0060 - val_accuracy: 0.9983\n",
      "Epoch 28/30\n",
      " - 104s - loss: 0.0095 - accuracy: 0.9969 - val_loss: 0.0062 - val_accuracy: 0.9982\n",
      "Epoch 29/30\n",
      " - 112s - loss: 0.0102 - accuracy: 0.9966 - val_loss: 0.0061 - val_accuracy: 0.9985\n",
      "Epoch 30/30\n",
      " - 106s - loss: 0.0089 - accuracy: 0.9972 - val_loss: 0.0057 - val_accuracy: 0.9983\n"
     ]
    }
   ],
   "source": [
    "# 開始訓練, 80%訓練, 20%驗證, 執行20次訓練週期, 每次300筆資料\n",
    "# By setting verbose 0, 1 or 2 you just say how do you want to 'see' the training progress for each epoch.\n",
    "#'verbose=0' will show you nothing (silent)\n",
    "#'verbose=1' will show you an animated progress bar \n",
    "#'verbose=2' will just mention the number of epoch\n",
    "train_history=model.fit(x=x_Train4D_normalize, \n",
    "                        y=y_TrainOneHot,validation_split=0.2, \n",
    "                        epochs=30, batch_size=1000,verbose=5)"
   ]
  },
  {
   "cell_type": "markdown",
   "metadata": {},
   "source": [
    "# 以圖形顯示訓練過程"
   ]
  },
  {
   "cell_type": "code",
   "execution_count": 21,
   "metadata": {},
   "outputs": [],
   "source": [
    "import matplotlib.pyplot as plt\n",
    "def show_train_history(train_acc,test_acc):\n",
    "    plt.plot(train_history.history[train_acc])\n",
    "    plt.plot(train_history.history[test_acc])\n",
    "    plt.title('Train History')\n",
    "    plt.ylabel('Accuracy')\n",
    "    plt.xlabel('Epoch')\n",
    "    plt.legend(['train', 'test'], loc='upper left')\n",
    "    plt.show()"
   ]
  },
  {
   "cell_type": "code",
   "execution_count": 22,
   "metadata": {},
   "outputs": [
    {
     "data": {
      "image/png": "[encoded data removed]",
      "text/plain": [
       "<Figure size 432x288 with 1 Axes>"
      ]
     },
     "metadata": {
      "needs_background": "light"
     },
     "output_type": "display_data"
    }
   ],
   "source": [
    "# 畫出accuracy結果\n",
    "show_train_history('accuracy','val_accuracy')"
   ]
  },
  {
   "cell_type": "code",
   "execution_count": 23,
   "metadata": {},
   "outputs": [
    {
     "data": {
      "image/png": "[encoded data removed]",
      "text/plain": [
       "<Figure size 432x288 with 1 Axes>"
      ]
     },
     "metadata": {
      "needs_background": "light"
     },
     "output_type": "display_data"
    }
   ],
   "source": [
    "# 畫出loss結果\n",
    "show_train_history('loss','val_loss')"
   ]
  },
  {
   "cell_type": "markdown",
   "metadata": {},
   "source": [
    "# 評估模型準確率"
   ]
  },
  {
   "cell_type": "code",
   "execution_count": 24,
   "metadata": {},
   "outputs": [],
   "source": [
    "#scores = model.evaluate(x_Test4D_normalize , y_TestOneHot)\n",
    "#scores[1]"
   ]
  },
  {
   "cell_type": "markdown",
   "metadata": {},
   "source": [
    "# 進行預測"
   ]
  },
  {
   "cell_type": "code",
   "execution_count": 25,
   "metadata": {},
   "outputs": [],
   "source": [
    "prediction=model.predict_classes(x_Test4D_normalize)"
   ]
  },
  {
   "cell_type": "code",
   "execution_count": 26,
   "metadata": {},
   "outputs": [
    {
     "data": {
      "text/plain": [
       "array([2, 0, 9, 0, 3, 7, 0, 3, 0, 3], dtype=int64)"
      ]
     },
     "execution_count": 26,
     "metadata": {},
     "output_type": "execute_result"
    }
   ],
   "source": [
    "# 預測結果\n",
    "prediction[:10]"
   ]
  },
  {
   "cell_type": "markdown",
   "metadata": {},
   "source": [
    "# 查看預測結果 "
   ]
  },
  {
   "cell_type": "code",
   "execution_count": 27,
   "metadata": {},
   "outputs": [],
   "source": [
    "import matplotlib.pyplot as plt\n",
    "def plot_images_labels_prediction(images,labels,prediction,idx,num=10):\n",
    "    fig = plt.gcf()\n",
    "    fig.set_size_inches(12, 14)\n",
    "    if num>25: num=25 \n",
    "    for i in range(0, num):\n",
    "        ax=plt.subplot(5,5, 1+i)\n",
    "        ax.imshow(images[idx], cmap='binary')\n",
    "\n",
    "        ax.set_title(\"label=\" +str(labels[idx])+\n",
    "                     \",predict=\"+str(prediction[idx])\n",
    "                     ,fontsize=10) \n",
    "        \n",
    "        ax.set_xticks([]);ax.set_yticks([])        \n",
    "        idx+=1 \n",
    "    plt.show()"
   ]
  },
  {
   "cell_type": "code",
   "execution_count": 28,
   "metadata": {},
   "outputs": [
    {
     "data": {
      "image/png": "[encoded data removed]",
      "text/plain": [
       "<Figure size 864x1008 with 10 Axes>"
      ]
     },
     "metadata": {},
     "output_type": "display_data"
    }
   ],
   "source": [
    "plot_images_labels_prediction(x_test_image,y_test_label,prediction,idx=0)"
   ]
  },
  {
   "cell_type": "markdown",
   "metadata": {},
   "source": [
    "# confusion matrix"
   ]
  },
  {
   "cell_type": "code",
   "execution_count": 29,
   "metadata": {},
   "outputs": [
    {
     "data": {
      "text/html": [
       "<div>\n",
       "<style scoped>\n",
       "    .dataframe tbody tr th:only-of-type {\n",
       "        vertical-align: middle;\n",
       "    }\n",
       "\n",
       "    .dataframe tbody tr th {\n",
       "        vertical-align: top;\n",
       "    }\n",
       "\n",
       "    .dataframe thead th {\n",
       "        text-align: right;\n",
       "    }\n",
       "</style>\n",
       "<table border=\"1\" class=\"dataframe\">\n",
       "  <thead>\n",
       "    <tr style=\"text-align: right;\">\n",
       "      <th>predict</th>\n",
       "      <th>0</th>\n",
       "      <th>1</th>\n",
       "      <th>2</th>\n",
       "      <th>3</th>\n",
       "      <th>4</th>\n",
       "      <th>5</th>\n",
       "      <th>6</th>\n",
       "      <th>7</th>\n",
       "      <th>8</th>\n",
       "      <th>9</th>\n",
       "    </tr>\n",
       "    <tr>\n",
       "      <th>label</th>\n",
       "      <th></th>\n",
       "      <th></th>\n",
       "      <th></th>\n",
       "      <th></th>\n",
       "      <th></th>\n",
       "      <th></th>\n",
       "      <th></th>\n",
       "      <th></th>\n",
       "      <th></th>\n",
       "      <th></th>\n",
       "    </tr>\n",
       "  </thead>\n",
       "  <tbody>\n",
       "    <tr>\n",
       "      <td>0</td>\n",
       "      <td>2771</td>\n",
       "      <td>3200</td>\n",
       "      <td>2815</td>\n",
       "      <td>2792</td>\n",
       "      <td>2745</td>\n",
       "      <td>2514</td>\n",
       "      <td>2737</td>\n",
       "      <td>2890</td>\n",
       "      <td>2762</td>\n",
       "      <td>2774</td>\n",
       "    </tr>\n",
       "  </tbody>\n",
       "</table>\n",
       "</div>"
      ],
      "text/plain": [
       "predict     0     1     2     3     4     5     6     7     8     9\n",
       "label                                                              \n",
       "0        2771  3200  2815  2792  2745  2514  2737  2890  2762  2774"
      ]
     },
     "execution_count": 29,
     "metadata": {},
     "output_type": "execute_result"
    }
   ],
   "source": [
    "import pandas as pd\n",
    "pd.crosstab(y_test_label,prediction,\n",
    "            rownames=['label'],colnames=['predict'])"
   ]
  },
  {
   "cell_type": "code",
   "execution_count": 30,
   "metadata": {},
   "outputs": [
    {
     "name": "stdout",
     "output_type": "stream",
     "text": [
      "              precision    recall  f1-score   support\n",
      "\n",
      "           0       1.00      0.10      0.18     28000\n",
      "           1       0.00      0.00      0.00         0\n",
      "           2       0.00      0.00      0.00         0\n",
      "           3       0.00      0.00      0.00         0\n",
      "           4       0.00      0.00      0.00         0\n",
      "           5       0.00      0.00      0.00         0\n",
      "           6       0.00      0.00      0.00         0\n",
      "           7       0.00      0.00      0.00         0\n",
      "           8       0.00      0.00      0.00         0\n",
      "           9       0.00      0.00      0.00         0\n",
      "\n",
      "    accuracy                           0.10     28000\n",
      "   macro avg       0.10      0.01      0.02     28000\n",
      "weighted avg       1.00      0.10      0.18     28000\n",
      "\n"
     ]
    },
    {
     "name": "stderr",
     "output_type": "stream",
     "text": [
      "C:\\Users\\student\\Anaconda3\\lib\\site-packages\\sklearn\\metrics\\classification.py:1439: UndefinedMetricWarning: Recall and F-score are ill-defined and being set to 0.0 in labels with no true samples.\n",
      "  'recall', 'true', average, warn_for)\n"
     ]
    }
   ],
   "source": [
    "from sklearn.metrics import classification_report\n",
    "\n",
    "y_pred = model.predict_classes(x_Test4D_normalize)\n",
    "print(classification_report(y_test_label, y_pred))"
   ]
  },
  {
   "cell_type": "code",
   "execution_count": 31,
   "metadata": {},
   "outputs": [
    {
     "data": {
      "image/png": "[encoded data removed]",
      "text/plain": [
       "<Figure size 864x1008 with 1 Axes>"
      ]
     },
     "metadata": {},
     "output_type": "display_data"
    }
   ],
   "source": [
    "plot_images_labels_prediction(x_test_image,y_test_label\n",
    "                              ,prediction,idx=340,num=1)"
   ]
  },
  {
   "cell_type": "code",
   "execution_count": 32,
   "metadata": {},
   "outputs": [
    {
     "data": {
      "image/png": "[encoded data removed]",
      "text/plain": [
       "<Figure size 864x1008 with 1 Axes>"
      ]
     },
     "metadata": {},
     "output_type": "display_data"
    }
   ],
   "source": [
    "plot_images_labels_prediction(x_test_image,y_test_label\n",
    "                              ,prediction,idx=1289,num=1)"
   ]
  },
  {
   "cell_type": "markdown",
   "metadata": {},
   "source": [
    "# 產生檔案"
   ]
  },
  {
   "cell_type": "code",
   "execution_count": 33,
   "metadata": {},
   "outputs": [
    {
     "data": {
      "text/html": [
       "<div>\n",
       "<style scoped>\n",
       "    .dataframe tbody tr th:only-of-type {\n",
       "        vertical-align: middle;\n",
       "    }\n",
       "\n",
       "    .dataframe tbody tr th {\n",
       "        vertical-align: top;\n",
       "    }\n",
       "\n",
       "    .dataframe thead th {\n",
       "        text-align: right;\n",
       "    }\n",
       "</style>\n",
       "<table border=\"1\" class=\"dataframe\">\n",
       "  <thead>\n",
       "    <tr style=\"text-align: right;\">\n",
       "      <th></th>\n",
       "      <th>ImageId</th>\n",
       "      <th>Label</th>\n",
       "    </tr>\n",
       "  </thead>\n",
       "  <tbody>\n",
       "    <tr>\n",
       "      <td>14902</td>\n",
       "      <td>14903</td>\n",
       "      <td>7</td>\n",
       "    </tr>\n",
       "    <tr>\n",
       "      <td>17172</td>\n",
       "      <td>17173</td>\n",
       "      <td>4</td>\n",
       "    </tr>\n",
       "    <tr>\n",
       "      <td>19407</td>\n",
       "      <td>19408</td>\n",
       "      <td>8</td>\n",
       "    </tr>\n",
       "    <tr>\n",
       "      <td>4886</td>\n",
       "      <td>4887</td>\n",
       "      <td>9</td>\n",
       "    </tr>\n",
       "    <tr>\n",
       "      <td>10642</td>\n",
       "      <td>10643</td>\n",
       "      <td>7</td>\n",
       "    </tr>\n",
       "  </tbody>\n",
       "</table>\n",
       "</div>"
      ],
      "text/plain": [
       "       ImageId  Label\n",
       "14902    14903      7\n",
       "17172    17173      4\n",
       "19407    19408      8\n",
       "4886      4887      9\n",
       "10642    10643      7"
      ]
     },
     "execution_count": 33,
     "metadata": {},
     "output_type": "execute_result"
    }
   ],
   "source": [
    "predictions = model.predict_classes(x_Test4D_normalize, verbose=0)\n",
    "\n",
    "submissions=pd.DataFrame({\"ImageId\": list(range(1,len(predictions)+1)),\n",
    "                          \"Label\": predictions})\n",
    "submissions.to_csv('mResult_1219_1.csv', index=False, header=True)\n",
    "submissions.sample(5)"
   ]
  },
  {
   "cell_type": "code",
   "execution_count": null,
   "metadata": {},
   "outputs": [],
   "source": []
  }
 ],
 "metadata": {
  "anaconda-cloud": {},
  "kernelspec": {
   "display_name": "Python 3",
   "language": "python",
   "name": "python3"
  },
  "language_info": {
   "codemirror_mode": {
    "name": "ipython",
    "version": 3
   },
   "file_extension": ".py",
   "mimetype": "text/x-python",
   "name": "python",
   "nbconvert_exporter": "python",
   "pygments_lexer": "ipython3",
   "version": "3.7.4"
  }
 },
 "nbformat": 4,
 "nbformat_minor": 1
}
